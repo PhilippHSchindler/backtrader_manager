{
 "cells": [
  {
   "cell_type": "code",
   "execution_count": null,
   "id": "0ba1106c-dc3b-4086-8d20-8a3ae92ae31b",
   "metadata": {},
   "outputs": [],
   "source": [
    "make method definition in backtest subclass easier:\n",
    "def _set_warmup_bars(self):\n",
    "    warmup_bars = max(self.get_parameter_max('macd_slow'), self.get_parameter_max('macd_fast')) + self.get_parameter_max('macd_signal')\n",
    "    return warmup_bars    "
   ]
  },
  {
   "cell_type": "code",
   "execution_count": null,
   "id": "3e6bc78e-316d-4816-8841-33024f271897",
   "metadata": {},
   "outputs": [],
   "source": [
    "adding duplicate backtests not working "
   ]
  },
  {
   "cell_type": "code",
   "execution_count": null,
   "id": "14f61494-12e5-4347-af86-84bc5a01fe81",
   "metadata": {},
   "outputs": [],
   "source": []
  },
  {
   "cell_type": "code",
   "execution_count": null,
   "id": "68486ddf-82ba-4068-9afa-f3797dd34585",
   "metadata": {},
   "outputs": [],
   "source": [
    "Collect all inputs to configure strategy and backtest:\n",
    "rename parameters to inputp_parameters.strategy\n",
    ".broker\n",
    ".plotting\n",
    "etc.\n"
   ]
  },
  {
   "cell_type": "code",
   "execution_count": null,
   "id": "1e2c8780-36c0-4d52-ba52-5cd061635d43",
   "metadata": {},
   "outputs": [],
   "source": [
    "BacktestCollection"
   ]
  },
  {
   "cell_type": "code",
   "execution_count": null,
   "id": "d95b546b-6c29-4a6e-b755-9af688221200",
   "metadata": {},
   "outputs": [],
   "source": [
    "clear separation between variables:\n",
    "which are being defined only in the class deifinition: class variables\n",
    "instance variables"
   ]
  },
  {
   "cell_type": "code",
   "execution_count": null,
   "id": "e7878d3f-2b8b-4785-9528-10c35542b4ba",
   "metadata": {},
   "outputs": [],
   "source": []
  },
  {
   "cell_type": "code",
   "execution_count": null,
   "id": "ecd5600e-3285-47cf-9764-4378875203a3",
   "metadata": {},
   "outputs": [],
   "source": [
    "Add commission settings to summary or backtest parameters"
   ]
  },
  {
   "cell_type": "code",
   "execution_count": null,
   "id": "f927f128-8c18-4d5c-bcee-02f23b27ac6e",
   "metadata": {},
   "outputs": [],
   "source": [
    "Same start of all backtests\n",
    "- add datafeeds: notice if not enough datapoints to calculate lagged indicator until start date\n",
    "- ensure that analyzers have coorect start\n",
    "- Solution?: Calculate exact buffer start date and use addminperiod"
   ]
  }
 ],
 "metadata": {
  "kernelspec": {
   "display_name": "Python [conda env:base] *",
   "language": "python",
   "name": "conda-base-py"
  },
  "language_info": {
   "codemirror_mode": {
    "name": "ipython",
    "version": 3
   },
   "file_extension": ".py",
   "mimetype": "text/x-python",
   "name": "python",
   "nbconvert_exporter": "python",
   "pygments_lexer": "ipython3",
   "version": "3.11.5"
  }
 },
 "nbformat": 4,
 "nbformat_minor": 5
}
