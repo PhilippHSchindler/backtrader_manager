{
 "cells": [
  {
   "cell_type": "code",
   "execution_count": null,
   "id": "05ec057e-d26a-4743-a460-a8dc44a93ad4",
   "metadata": {},
   "outputs": [],
   "source": [
    "include short selling"
   ]
  }
 ],
 "metadata": {
  "kernelspec": {
   "display_name": "Python [conda env:base] *",
   "language": "python",
   "name": "conda-base-py"
  },
  "language_info": {
   "codemirror_mode": {
    "name": "ipython",
    "version": 3
   },
   "file_extension": ".py",
   "mimetype": "text/x-python",
   "name": "python",
   "nbconvert_exporter": "python",
   "pygments_lexer": "ipython3",
   "version": "3.11.5"
  }
 },
 "nbformat": 4,
 "nbformat_minor": 5
}
