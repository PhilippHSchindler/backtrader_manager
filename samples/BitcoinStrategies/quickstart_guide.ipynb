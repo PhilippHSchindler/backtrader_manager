{
 "cells": [
  {
   "cell_type": "markdown",
   "id": "b5c06bce-7799-4323-9196-87cb19cf11a7",
   "metadata": {},
   "source": [
    "# What We'll Cover"
   ]
  },
  {
   "cell_type": "markdown",
   "id": "fe48cbdc-6c49-4931-9a6b-f66ebe6d1d6a",
   "metadata": {},
   "source": [
    "<div class=\"alert alert-info\" style=\"margin-bottom: 16px; padding: 12px; border-left: 4px solid #428bca; background-color: #f8f9fa;\">\n",
    "\n",
    "**Backtests of simple MACD momentum Bitcoin strategies**\n",
    "* Inspect Bitcoin.py for class definitions\n",
    "* BenchmarkBitcoinStrategy class is a simple benchmark buy and hold strategy\n",
    "* BacktestBitcoinStrategy_01 class is a MACD strategy as starting point\n",
    "* BacktestBitcoinStrategy_02 class is MACD + ATR based volatility filter\n",
    "* BacktestBitcoinStrategy_03 class is MACD + Moving averages short and long\n",
    "      \n",
    "**Regular Optimization**\n",
    "* Single train/test split\n",
    "* Initial validation\n",
    "      \n",
    "\n",
    "**Walkforward Optimization**\n",
    "* Two different configurations  \n",
    "* Robust time-series testing\n",
    "\n",
    "**Comparrison of performances accross optimizations**\n",
    "* Out of sample performaces\n",
    "* Overfitting"
   ]
  },
  {
   "cell_type": "markdown",
   "id": "055a013d-371d-4718-a32e-218eb14089fe",
   "metadata": {},
   "source": [
    "# Imports"
   ]
  },
  {
   "cell_type": "code",
   "execution_count": null,
   "id": "b9b57464-1a73-4a6b-8527-40b7ebb327ae",
   "metadata": {},
   "outputs": [],
   "source": [
    "%matplotlib qt \n",
    "import pandas as pd\n",
    "import backtrader_manager as bm"
   ]
  },
  {
   "cell_type": "code",
   "execution_count": null,
   "id": "803a9002-b363-4a80-8816-675ef5bafcd5",
   "metadata": {},
   "outputs": [],
   "source": [
    "# the classes defining the backtests can be found in Bitcoin.py\n",
    "from Bitcoin import (\n",
    "    BenchmarkBitcoinStrategy,\n",
    "    BacktestBitcoinStrategy_01, # only macd indicator\n",
    "    BacktestBitcoinStrategy_02, # macd and atr indicators\n",
    "    BacktestBitcoinStrategy_03, # macd and ma short/long indicators\n",
    "    ) "
   ]
  },
  {
   "cell_type": "markdown",
   "id": "691e43ac-5fa0-470d-b5a1-36566e5a1de5",
   "metadata": {},
   "source": [
    "# Parameter configurations"
   ]
  },
  {
   "cell_type": "markdown",
   "id": "e0a1edc3-7764-495f-9656-e019a300746e",
   "metadata": {},
   "source": [
    "</div><div style=\"border: 1px solid #f0ad4e; padding: 12px; border-radius: 4px; background-color: #fcf8e3; margin-bottom: 16px;\">\n",
    "Time-Saving Mode\n",
    "\n",
    "The constrained ranges sigificantly reduce computation time.\n",
    "\n",
    "To run full optimization:\n",
    "* Uncomment complete parameter ranges\n",
    "* Restart kernel\n",
    "* Re-run notebook\n",
    "</div> "
   ]
  },
  {
   "cell_type": "code",
   "execution_count": null,
   "id": "27743561-b2bc-414f-89ea-440db5ae4a8b",
   "metadata": {},
   "outputs": [],
   "source": [
    "# Minimal ranges for quick testing\n",
    "parameters_macd = {\n",
    "    'macd_slow': [26, 40, 60], \n",
    "    'macd_fast': [12, 24], \n",
    "    'macd_signal': [9] \n",
    "}\n",
    "\n",
    "parameters_ma_short_long = {\n",
    "    'ma_short': [25, 50],\n",
    "    'ma_long': [100, 150, 200]\n",
    "}\n",
    "\n",
    "parameters_atr = {\n",
    "    'atr_period': [7, 14],\n",
    "    'atr_threshold': [0.02],\n",
    "}"
   ]
  },
  {
   "cell_type": "markdown",
   "id": "998c2200-0854-4f6e-ad37-d83b19f1567e",
   "metadata": {},
   "source": [
    "# Backtest Collection "
   ]
  },
  {
   "cell_type": "code",
   "execution_count": null,
   "id": "7094d88a-6893-4cc2-b6e9-7964d6e7e413",
   "metadata": {},
   "outputs": [],
   "source": [
    "# Path to pandas ohlc data\n",
    "csv_datas_path = '../../datas/Bitcoin' # in this case relative path, absolute path also possible\n",
    "# Name of collection\n",
    "name = 'Main'\n",
    "\n",
    "# Instantiate new collection\n",
    "main = bm.BacktestCollection(name=name, csv_datas_path=csv_datas_path)"
   ]
  },
  {
   "cell_type": "markdown",
   "id": "63a30a02-b75e-4768-87a3-9ea876fe2cec",
   "metadata": {
    "jp-MarkdownHeadingCollapsed": true
   },
   "source": [
    "<span style=\"background-color: #f9e79f; padding: 2px 4px; border-radius: 3px;\">**✅ Automatic Saving**</span>  \n",
    "• Collection is saved after each backtest  \n",
    "• Includes all cerebro result objects  \n",
    "\n",
    "<span style=\"background-color: #d5f5e3; padding: 2px 4px; border-radius: 3px;\">**🔁 Recovery Option**</span>  \n",
    "• If PC crashed, simply re-run the cell above \n",
    "• Restores last saved state  \n"
   ]
  },
  {
   "cell_type": "markdown",
   "id": "eeaf3942-ca0f-4ea2-a31c-2bca96f40d22",
   "metadata": {},
   "source": [
    "# Regular Optimization"
   ]
  },
  {
   "cell_type": "markdown",
   "id": "3b448893-f841-4916-af27-76ad0ede3ccc",
   "metadata": {},
   "source": [
    "## Train"
   ]
  },
  {
   "cell_type": "code",
   "execution_count": null,
   "id": "99af751e-fc2b-4bec-b35b-3808ea16397c",
   "metadata": {},
   "outputs": [],
   "source": [
    "# Instatiate a new BacktestInputCollection\n",
    "name = 'single_opt' \n",
    "\n",
    "single_opt = bm.BacktestInputCollection(\n",
    "    name, # name that decribes type of optimization  \n",
    "    max_warmup = 200, # maximum bars reserved for any indicator warmup phase prior backtest start\n",
    "    train_perc=0.7, # defines train/test split\n",
    ")"
   ]
  },
  {
   "cell_type": "code",
   "execution_count": null,
   "id": "4de598d6-9fc9-449d-aa17-e4365b9403f8",
   "metadata": {},
   "outputs": [],
   "source": [
    "# We add it to main\n",
    "# Now the datafeeds are accesible and the train-test periods are calculated\n",
    "main.add_backtest_input_collection(single_opt)"
   ]
  },
  {
   "cell_type": "code",
   "execution_count": null,
   "id": "40f3e289-8d1b-466e-b495-3428e0d4a35c",
   "metadata": {},
   "outputs": [],
   "source": [
    "# Create backtest inputs for our strategies\n",
    "# we start with Benchmark\n",
    "backtest_class = BenchmarkBitcoinStrategy\n",
    "strategy_parameters = None # this strategy doesnt need any parameters\n",
    "\n",
    "single_opt.create_backtest_inputs(backtest_class=backtest_class, strategy_parameters=strategy_parameters)"
   ]
  },
  {
   "cell_type": "code",
   "execution_count": null,
   "id": "c3311404-f6c0-4f36-ae1d-a1d4693c9d2e",
   "metadata": {},
   "outputs": [],
   "source": [
    "# Create inupts for the remaining backtest classes\n",
    "single_opt.create_backtest_inputs(backtest_class=BacktestBitcoinStrategy_01, strategy_parameters={**parameters_macd})\n",
    "single_opt.create_backtest_inputs(backtest_class=BacktestBitcoinStrategy_02, strategy_parameters={**parameters_macd, **parameters_atr})\n",
    "single_opt.create_backtest_inputs(backtest_class=BacktestBitcoinStrategy_03, strategy_parameters={**parameters_macd, **parameters_ma_short_long})"
   ]
  },
  {
   "cell_type": "code",
   "execution_count": null,
   "id": "5a2ad88a-dc56-426f-ac44-d953bff70b2d",
   "metadata": {},
   "outputs": [],
   "source": [
    "# Create new backtests \n",
    "main.create_new_backtests(single_opt)"
   ]
  },
  {
   "cell_type": "code",
   "execution_count": null,
   "id": "a66a3d1f-8dcd-4658-a866-251b9c9263ed",
   "metadata": {},
   "outputs": [],
   "source": [
    "# Run new backtests\n",
    "main.run_backtests()"
   ]
  },
  {
   "cell_type": "code",
   "execution_count": null,
   "id": "022a98fb-9681-4e58-ae2a-1ea82270f486",
   "metadata": {},
   "outputs": [],
   "source": [
    "# summary dataframe contain all completed backtests with meta data, metrics and parameters\n",
    "main.summary"
   ]
  },
  {
   "cell_type": "code",
   "execution_count": null,
   "id": "1c407acf-8398-4789-92ea-8843a09d109b",
   "metadata": {},
   "outputs": [],
   "source": [
    "# same datafame but in groups \n",
    "main.summarize_in_groups()"
   ]
  },
  {
   "cell_type": "code",
   "execution_count": null,
   "id": "45339717-d0c1-4a22-aad6-80d4d6b2865f",
   "metadata": {},
   "outputs": [],
   "source": [
    "# same datafame but in groups, sorted_by sharperatio and showing strategy parameters columns\n",
    "summary_ranked = main.summarize_in_groups(period_key='train', sort_by=('sharperatio', 'mean'), show_parameters=True).head(5)\n",
    "summary_ranked"
   ]
  },
  {
   "cell_type": "code",
   "execution_count": null,
   "id": "f6e7c4b1-cdf8-4f92-947a-9d97311058b8",
   "metadata": {},
   "outputs": [],
   "source": [
    "# We select first row as optimum to be tested out of sample\n",
    "optimum_single_opt = summary_ranked.iloc[0].name\n",
    "optimum_single_opt"
   ]
  },
  {
   "cell_type": "markdown",
   "id": "4d48ecee-6cba-4a7d-9405-5a9443b9113a",
   "metadata": {},
   "source": [
    "## Test"
   ]
  },
  {
   "cell_type": "code",
   "execution_count": null,
   "id": "cb4e2108-8f5c-4c40-adaa-83d13fcbc4d5",
   "metadata": {},
   "outputs": [],
   "source": [
    "# We create the input for the test period \n",
    "single_opt.create_backtest_inputs(strategy_parameters='strat_03-31', period_keys=('test',))\n",
    "single_opt.create_backtest_inputs(strategy_parameters='buy_hold-1', period_keys=('test',))"
   ]
  },
  {
   "cell_type": "code",
   "execution_count": null,
   "id": "0319d7d4-2440-47e1-8535-fb97fdf7a327",
   "metadata": {},
   "outputs": [],
   "source": [
    "# Create new backtests \n",
    "main.create_new_backtests(single_opt)"
   ]
  },
  {
   "cell_type": "code",
   "execution_count": null,
   "id": "7c246d5e-d15f-4ce2-a146-83509fe8a007",
   "metadata": {},
   "outputs": [],
   "source": [
    "# Run new backtests\n",
    "main.run_backtests()"
   ]
  },
  {
   "cell_type": "markdown",
   "id": "bee70b3f-09ce-46c7-aaf5-cea274b86a11",
   "metadata": {},
   "source": [
    "## Results"
   ]
  },
  {
   "cell_type": "code",
   "execution_count": null,
   "id": "d8728de8-ee82-4c74-be2f-365a04367637",
   "metadata": {},
   "outputs": [],
   "source": [
    "# Create quantstats reports\n"
   ]
  },
  {
   "cell_type": "code",
   "execution_count": null,
   "id": "bdafc9ba-8d1b-4154-a54a-5be78b1f1539",
   "metadata": {},
   "outputs": [],
   "source": [
    "# Summary dataframe\n",
    "main.summarize_in_groups(parameter_id=['strat_03-31', 'buy_hold-1'])"
   ]
  },
  {
   "cell_type": "markdown",
   "id": "44e63bc8-0d97-40ae-a255-cd0500b60dcd",
   "metadata": {},
   "source": [
    "- strategy has a higher sharperatio in test period than in train period\n",
    "- but: strategy underperformed compared to benchmark in test period"
   ]
  },
  {
   "cell_type": "markdown",
   "id": "538e0362-5ca5-45b4-9c35-96bf2bfa4583",
   "metadata": {},
   "source": [
    "# Walkforward Optimization 1"
   ]
  },
  {
   "cell_type": "markdown",
   "id": "230740f1-19fd-46b1-bb39-3adb2b01fc0e",
   "metadata": {},
   "source": [
    "## Train"
   ]
  },
  {
   "cell_type": "code",
   "execution_count": null,
   "id": "2b7b02c7-e293-4cb7-a200-389f120efadd",
   "metadata": {},
   "outputs": [],
   "source": [
    "# Instatiate a new BacktestInputCollection\n",
    "name = 'wfo_1_opt' \n",
    "\n",
    "wfo_1_opt = bm.BacktestInputCollection(\n",
    "    name, # name that decribes type of optimization  \n",
    "    max_warmup = 200, # maximum bars reserved for any indicator warmup phase prior backtest start\n",
    "    train_perc=0.7, # defines train/test split\n",
    ")"
   ]
  },
  {
   "cell_type": "code",
   "execution_count": null,
   "id": "b65adc91-581f-4354-af9a-5b3f541654b3",
   "metadata": {},
   "outputs": [],
   "source": [
    "# We add it to main\n",
    "main.add_backtest_input_collection(wfo_1_opt)"
   ]
  },
  {
   "cell_type": "code",
   "execution_count": null,
   "id": "5066441a-7067-4177-a9b1-260d451452ce",
   "metadata": {},
   "outputs": [],
   "source": [
    "# For a walk forward optimisation we first decide which window size to use\n",
    "# Herefor we plot our data usings bars instead of timestamps\n",
    "wfo_1_opt.plot_train_test_periods(use_dates=False)"
   ]
  },
  {
   "cell_type": "code",
   "execution_count": null,
   "id": "4ebc8e34-4e06-4fd2-9ecb-0965bb861a84",
   "metadata": {},
   "outputs": [],
   "source": [
    "# We try out differnet window sizes, train/test splits and walkforward steps and recalculate the train_test_periods\n",
    "# You can comment out the values and play arround with the settings\n",
    "wfo_1_opt.window = 750\n",
    "wfo_1_opt.train_perc = 0.7\n",
    "wfo_1_opt.walkforward_step = wfo_1_opt.test_window"
   ]
  },
  {
   "cell_type": "code",
   "execution_count": null,
   "id": "edac23c7-ba05-4db7-8de5-ca911e770479",
   "metadata": {},
   "outputs": [],
   "source": [
    "wfo_1_opt.train_window"
   ]
  },
  {
   "cell_type": "code",
   "execution_count": null,
   "id": "86681ec2-225c-4b04-8235-691538ec1dd6",
   "metadata": {},
   "outputs": [],
   "source": [
    "wfo_1_opt.test_window"
   ]
  },
  {
   "cell_type": "code",
   "execution_count": null,
   "id": "4026d20c-6a08-4030-9820-015f84f0d5f9",
   "metadata": {},
   "outputs": [],
   "source": [
    "wfo_1_opt.calc_train_test_periods()"
   ]
  },
  {
   "cell_type": "code",
   "execution_count": null,
   "id": "96012c10-3a2f-4f9b-a0b1-bae4412288a1",
   "metadata": {},
   "outputs": [],
   "source": [
    "# The following workflow is the same as with the reguar optimization\n",
    "\n",
    "# Create backtest inputs for our strategies\n",
    "wfo_1_opt.create_backtest_inputs(backtest_class=BenchmarkBitcoinStrategy, strategy_parameters=None)\n",
    "wfo_1_opt.create_backtest_inputs(backtest_class=BacktestBitcoinStrategy_01, strategy_parameters={**parameters_macd})\n",
    "wfo_1_opt.create_backtest_inputs(backtest_class=BacktestBitcoinStrategy_02, strategy_parameters={**parameters_macd, **parameters_atr})\n",
    "wfo_1_opt.create_backtest_inputs(backtest_class=BacktestBitcoinStrategy_03, strategy_parameters={**parameters_macd, **parameters_ma_short_long})\n",
    "\n",
    "# Create and run backtests\n",
    "main.create_new_backtests(wfo_1_opt)\n",
    "main.run_backtests()"
   ]
  },
  {
   "cell_type": "code",
   "execution_count": null,
   "id": "7b9a1c2e-64ef-46ad-954b-f5a0ebfb421b",
   "metadata": {},
   "outputs": [],
   "source": [
    "# Benchmark performance\n",
    "main.summarize_in_groups(input_collection_name='wfo_1_opt', backtest_class='buy_hold')"
   ]
  },
  {
   "cell_type": "code",
   "execution_count": null,
   "id": "10ee881d-fac3-44ef-801c-e5410f433bcb",
   "metadata": {},
   "outputs": [],
   "source": [
    "# Strategy performaces sorted by mean sharperatio and showing parameters\n",
    "summary_ranked = main.summarize_in_groups(input_collection_name='wfo_1_opt', period_key='train', sort_by=('sharperatio', 'mean'), show_parameters=True).head(5)\n",
    "summary_ranked"
   ]
  },
  {
   "cell_type": "code",
   "execution_count": null,
   "id": "5108c7b9-9ae2-4574-a3cd-6460be239e32",
   "metadata": {},
   "outputs": [],
   "source": [
    "optimum_wfo_1_opt = summary_ranked.iloc[0].name\n",
    "optimum_wfo_1_opt"
   ]
  },
  {
   "cell_type": "markdown",
   "id": "bdaa12af-bb21-4b24-9547-b8cc39a095be",
   "metadata": {},
   "source": [
    "## Test"
   ]
  },
  {
   "cell_type": "code",
   "execution_count": null,
   "id": "61a227ed-2e30-4b5b-8c64-eb0d6f5d14bf",
   "metadata": {},
   "outputs": [],
   "source": [
    "# These are all the backtes of our selcted optimum and benchmark in the train period\n",
    "summary_filtered = main.summarize_filter_by(\n",
    "    input_collection_name=optimum_wfo_1_opt[0], \n",
    "    period_key=optimum_wfo_1_opt[1], \n",
    "    parameter_id=[optimum_wfo_1_opt[3], 'buy_hold-1'])\n",
    "summary_filtered"
   ]
  },
  {
   "cell_type": "code",
   "execution_count": null,
   "id": "f9ce57a0-bd51-49de-adb8-a9a0c2c6a146",
   "metadata": {},
   "outputs": [],
   "source": [
    "# We could now create our inputs as done in the regular optimization on by one\n",
    "# But a quicker way is by using the following method\n",
    "# Exact same inputs are created with the exeption priod_key that is set to 'test'\n",
    "wfo_1_opt.create_cloned_inputs(summary_filtered, period_keys=('test',))"
   ]
  },
  {
   "cell_type": "code",
   "execution_count": null,
   "id": "8a718f3c-6820-42de-b7d7-ddb52bb96017",
   "metadata": {},
   "outputs": [],
   "source": [
    "len(wfo_1_opt.backtest_inputs)"
   ]
  },
  {
   "cell_type": "code",
   "execution_count": null,
   "id": "47a0d99e-d80c-4f65-93bf-f790cd9c35e0",
   "metadata": {},
   "outputs": [],
   "source": [
    "# Create and run backtests\n",
    "main.create_new_backtests(wfo_1_opt)\n",
    "main.run_backtests()"
   ]
  },
  {
   "cell_type": "markdown",
   "id": "f988f054-1280-4402-8f30-d33980e934dd",
   "metadata": {},
   "source": [
    "## Results"
   ]
  },
  {
   "cell_type": "code",
   "execution_count": null,
   "id": "4ca59b2c-227a-4d17-b326-a4f0039f4fda",
   "metadata": {},
   "outputs": [],
   "source": [
    "# Summary dataframe\n",
    "main.summarize_in_groups(\n",
    "    input_collection_name=optimum_wfo_1_opt[0], \n",
    "    parameter_id=[optimum_wfo_1_opt[3], 'buy_hold-1'])"
   ]
  },
  {
   "cell_type": "markdown",
   "id": "b5854a27-3a08-420a-ada0-4a23f1cc2fbb",
   "metadata": {},
   "source": [
    "- strategy has a higher sharperatio in test period than in train period\n",
    "- strategy outperformed benchmark also in test period"
   ]
  },
  {
   "cell_type": "markdown",
   "id": "8ca581b4-ebad-449e-9b17-64ae681be1a0",
   "metadata": {
    "jp-MarkdownHeadingCollapsed": true
   },
   "source": [
    "# Walkforward Optimization 2"
   ]
  },
  {
   "cell_type": "code",
   "execution_count": null,
   "id": "6709f105-7049-476c-b477-1a5376033cf4",
   "metadata": {},
   "outputs": [],
   "source": [
    "# Add second wfo with smaller windows more iterations"
   ]
  },
  {
   "cell_type": "markdown",
   "id": "08c9884c-23d6-4cc3-bcfa-ff7742f3ad25",
   "metadata": {},
   "source": [
    "## Train"
   ]
  },
  {
   "cell_type": "markdown",
   "id": "ff341f7c-cb29-4c12-a0e5-0fa93e0a005c",
   "metadata": {},
   "source": [
    "## Test"
   ]
  },
  {
   "cell_type": "markdown",
   "id": "4f1fb530-6151-4125-aef7-b0de19051b4b",
   "metadata": {},
   "source": [
    "## Result"
   ]
  },
  {
   "cell_type": "markdown",
   "id": "3b7fcc8e-56e2-4231-b16a-47e8757938e4",
   "metadata": {},
   "source": [
    "# Results Comparison"
   ]
  },
  {
   "cell_type": "code",
   "execution_count": null,
   "id": "002b1e23-77f7-4bd9-82ea-d5f90b78e8b2",
   "metadata": {},
   "outputs": [],
   "source": [
    "optimum_single_opt"
   ]
  },
  {
   "cell_type": "code",
   "execution_count": null,
   "id": "b4f83849-d6f7-4631-afb4-15c080100ed2",
   "metadata": {},
   "outputs": [],
   "source": [
    "optimum_wfo_1_opt"
   ]
  },
  {
   "cell_type": "code",
   "execution_count": null,
   "id": "dc86e3a0-fbc3-4769-a941-7ab505d64edb",
   "metadata": {},
   "outputs": [],
   "source": [
    "single_opt = main.get_input_collection('single_opt')\n",
    "single_opt.plot_train_test_periods()"
   ]
  },
  {
   "cell_type": "code",
   "execution_count": null,
   "id": "c7fb8330-8540-4f02-915d-896cba723d04",
   "metadata": {},
   "outputs": [],
   "source": [
    "wfo_1_opt = main.get_input_collection('wfo_1_opt')\n",
    "wfo_1_opt.plot_train_test_periods()"
   ]
  },
  {
   "cell_type": "code",
   "execution_count": null,
   "id": "e5746f89-1cff-4551-a958-7d11d220ab9d",
   "metadata": {},
   "outputs": [],
   "source": [
    "main.summarize_in_groups(\n",
    "    input_collection_name=optimum_single_opt[0],\n",
    "    parameter_id=[optimum_single_opt[3], 'buy_hold-1'],\n",
    "    show_parameters=True\n",
    ")"
   ]
  },
  {
   "cell_type": "code",
   "execution_count": null,
   "id": "965540f5-4611-4571-9d37-ceacb477472c",
   "metadata": {},
   "outputs": [],
   "source": [
    "main.summarize_in_groups(\n",
    "    input_collection_name=optimum_wfo_1_opt[0],\n",
    "    parameter_id=[optimum_wfo_1_opt[3], 'buy_hold-1'],\n",
    "    show_parameters=True\n",
    ")"
   ]
  },
  {
   "cell_type": "code",
   "execution_count": null,
   "id": "fa40d910-bead-478b-b600-41a2e924736f",
   "metadata": {},
   "outputs": [],
   "source": [
    "# Some kind of resumee"
   ]
  }
 ],
 "metadata": {
  "kernelspec": {
   "display_name": "Python [conda env:backtrader]",
   "language": "python",
   "name": "conda-env-backtrader-py"
  },
  "language_info": {
   "codemirror_mode": {
    "name": "ipython",
    "version": 3
   },
   "file_extension": ".py",
   "mimetype": "text/x-python",
   "name": "python",
   "nbconvert_exporter": "python",
   "pygments_lexer": "ipython3",
   "version": "3.11.5"
  }
 },
 "nbformat": 4,
 "nbformat_minor": 5
}
